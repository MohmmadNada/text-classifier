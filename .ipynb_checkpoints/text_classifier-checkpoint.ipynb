{
 "cells": [
  {
   "cell_type": "markdown",
   "id": "d3d67572-c67a-4467-9061-152adec0203a",
   "metadata": {},
   "source": [
    "##### Your task is to create a baseline classification model by following (and modifying when needed) the Practical Text Classification With Python and Keras tutorial into a running Jupyter Notebook."
   ]
  },
  {
   "cell_type": "code",
   "execution_count": 1,
   "id": "a8552981-ff5b-46a6-9708-19645c23dc18",
   "metadata": {},
   "outputs": [],
   "source": [
    "import pandas as pd"
   ]
  },
  {
   "cell_type": "code",
   "execution_count": 2,
   "id": "b39237cf-e9e2-40e6-92ed-f021ccc8b028",
   "metadata": {},
   "outputs": [],
   "source": [
    "file_path_dict={ 'yelp':'data/sentiment_analysis/yelp_labelled.txt',\n",
    "                'amazon':'data/sentiment_analysis/amazon_cells_labelled.txt',\n",
    "                'imdb':'data/sentiment_analysis/imdb_labelled.txt'}"
   ]
  },
  {
   "cell_type": "code",
   "execution_count": 3,
   "id": "3420a3b6-88ee-4b0b-98c2-2ad13c4b2b97",
   "metadata": {},
   "outputs": [
    {
     "name": "stdout",
     "output_type": "stream",
     "text": [
      "                                              sentence  label source\n",
      "0                             Wow... Loved this place.      1   yelp\n",
      "1                                   Crust is not good.      0   yelp\n",
      "2            Not tasty and the texture was just nasty.      0   yelp\n",
      "3    Stopped by during the late May bank holiday of...      1   yelp\n",
      "4    The selection on the menu was great and so wer...      1   yelp\n",
      "..                                                 ...    ...    ...\n",
      "743  I just got bored watching Jessice Lange take h...      0   imdb\n",
      "744  Unfortunately, any virtue in this film's produ...      0   imdb\n",
      "745                   In a word, it is embarrassing.        0   imdb\n",
      "746                               Exceptionally bad!        0   imdb\n",
      "747  All in all its an insult to one's intelligence...      0   imdb\n",
      "\n",
      "[2748 rows x 3 columns]\n"
     ]
    }
   ],
   "source": [
    "df_list = []\n",
    "for source,filepath in file_path_dict.items():\n",
    "    df = pd.read_csv(filepath,names=['sentence', 'label'],sep='\\t')\n",
    "    df['source']=source\n",
    "    df_list.append(df)\n",
    "    \n",
    "df =pd.concat(df_list)\n",
    "# print(df.iloc[100])\n",
    "print(df)"
   ]
  },
  {
   "cell_type": "code",
   "execution_count": 4,
   "id": "e537f6da-8592-4298-84ad-cd993061ac0e",
   "metadata": {},
   "outputs": [
    {
     "data": {
      "text/plain": [
       "{'John': 0, 'likes': 5, 'ice': 4, 'cream': 2, 'hates': 3, 'chocolate': 1}"
      ]
     },
     "execution_count": 4,
     "metadata": {},
     "output_type": "execute_result"
    }
   ],
   "source": [
    "sentences = ['John likes ice cream', 'John hates chocolate.']# array to test \n",
    "from sklearn.feature_extraction.text import CountVectorizer# takes the words of each sentence and creates a vocabulary of all the unique words in the sentences. \n",
    "vectorizer =CountVectorizer(min_df=0, lowercase=False)\n",
    "vectorizer.fit(sentences)\n",
    "vectorizer.vocabulary_ "
   ]
  },
  {
   "cell_type": "code",
   "execution_count": 5,
   "id": "b51d64fd-fbf1-47a8-845c-e9d10696367f",
   "metadata": {},
   "outputs": [
    {
     "data": {
      "text/plain": [
       "array([[1, 0, 1, 0, 1, 1],\n",
       "       [1, 1, 0, 1, 0, 0]])"
      ]
     },
     "execution_count": 5,
     "metadata": {},
     "output_type": "execute_result"
    }
   ],
   "source": [
    "vectorizer.transform(sentences).toarray()"
   ]
  },
  {
   "cell_type": "markdown",
   "id": "dddf33c7-7b60-4137-b3ff-28798ee7b7b9",
   "metadata": {},
   "source": [
    "### Defining a Baseline Model\n"
   ]
  },
  {
   "cell_type": "markdown",
   "id": "424745a6-0c20-4ee8-bc45-7f11622beba5",
   "metadata": {},
   "source": [
    "##### split the data into a training and testing set to evaluate the accuracy"
   ]
  },
  {
   "cell_type": "code",
   "execution_count": 6,
   "id": "a1931fc5-47dc-403d-90f1-8580aa3c0426",
   "metadata": {},
   "outputs": [],
   "source": [
    "from sklearn.model_selection import train_test_split\n",
    "# ------------------- yelp section\n",
    "df_yelp = df[df['source']=='yelp']\n",
    "sentences = df_yelp['sentence'].values\n",
    "y =df_yelp['label'].values\n",
    "sentences_train, sentences_test, y_train, y_test= train_test_split(sentences, y, test_size=0.25,random_state=1000)\n",
    "\n",
    "\n",
    "# ------------------- imdb section\n"
   ]
  },
  {
   "cell_type": "code",
   "execution_count": 7,
   "id": "726b4fbf-5039-458d-850a-bae01c1f791d",
   "metadata": {},
   "outputs": [
    {
     "data": {
      "text/plain": [
       "<750x1714 sparse matrix of type '<class 'numpy.int64'>'\n",
       "\twith 7368 stored elements in Compressed Sparse Row format>"
      ]
     },
     "execution_count": 7,
     "metadata": {},
     "output_type": "execute_result"
    }
   ],
   "source": [
    "from sklearn.feature_extraction.text import CountVectorizer\n",
    "vectorizer = CountVectorizer()\n",
    "vectorizer.fit(sentences_train)\n",
    "X_train = vectorizer.transform(sentences_train)\n",
    "X_test  = vectorizer.transform(sentences_test)\n",
    "X_train"
   ]
  },
  {
   "cell_type": "code",
   "execution_count": 8,
   "id": "befb32b1-b6af-4029-95a2-a432488c5ac3",
   "metadata": {},
   "outputs": [
    {
     "name": "stdout",
     "output_type": "stream",
     "text": [
      "Accuracy: 0.796\n"
     ]
    }
   ],
   "source": [
    ">>> from sklearn.linear_model import LogisticRegression\n",
    "\n",
    "X_test = vectorizer.transform(sentences_test)\n",
    "classifier = LogisticRegression()\n",
    "classifier.fit(X_train, y_train)\n",
    "score = classifier.score(X_test, y_test)\n",
    "print(\"Accuracy:\", score)"
   ]
  },
  {
   "cell_type": "code",
   "execution_count": 9,
   "id": "9948a89d-0d71-499e-bf02-516a1dfd02df",
   "metadata": {},
   "outputs": [
    {
     "name": "stdout",
     "output_type": "stream",
     "text": [
      "Accuracy for yelp data: 0.7960\n",
      "Accuracy for amazon data: 0.7960\n",
      "Accuracy for imdb data: 0.7487\n"
     ]
    }
   ],
   "source": [
    "for source in df['source'].unique():\n",
    "    df_source = df[df['source'] == source]\n",
    "    sentences = df_source['sentence'].values\n",
    "    y = df_source['label'].values\n",
    "\n",
    "    sentences_train, sentences_test, y_train, y_test = train_test_split(\n",
    "        sentences, y, test_size=0.25, random_state=1000)\n",
    "\n",
    "    vectorizer = CountVectorizer()\n",
    "    vectorizer.fit(sentences_train)\n",
    "    X_train = vectorizer.transform(sentences_train)\n",
    "    X_test  = vectorizer.transform(sentences_test)\n",
    "\n",
    "    classifier = LogisticRegression()\n",
    "    classifier.fit(X_train, y_train)\n",
    "    score = classifier.score(X_test, y_test)\n",
    "    print('Accuracy for {} data: {:.4f}'.format(source, score))"
   ]
  },
  {
   "cell_type": "code",
   "execution_count": null,
   "id": "6c2f4695-1530-410f-bc04-f6c706bd2cd3",
   "metadata": {},
   "outputs": [],
   "source": []
  }
 ],
 "metadata": {
  "kernelspec": {
   "display_name": "Python 3",
   "language": "python",
   "name": "python3"
  },
  "language_info": {
   "codemirror_mode": {
    "name": "ipython",
    "version": 3
   },
   "file_extension": ".py",
   "mimetype": "text/x-python",
   "name": "python",
   "nbconvert_exporter": "python",
   "pygments_lexer": "ipython3",
   "version": "3.9.4"
  }
 },
 "nbformat": 4,
 "nbformat_minor": 5
}
